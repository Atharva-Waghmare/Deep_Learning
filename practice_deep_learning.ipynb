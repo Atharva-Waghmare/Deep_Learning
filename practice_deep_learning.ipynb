{
  "nbformat": 4,
  "nbformat_minor": 0,
  "metadata": {
    "colab": {
      "provenance": [],
      "authorship_tag": "ABX9TyNOSnTB2PTpEa8eE1/3FJSW",
      "include_colab_link": true
    },
    "kernelspec": {
      "name": "python3",
      "display_name": "Python 3"
    },
    "language_info": {
      "name": "python"
    }
  },
  "cells": [
    {
      "cell_type": "markdown",
      "metadata": {
        "id": "view-in-github",
        "colab_type": "text"
      },
      "source": [
        "<a href=\"https://colab.research.google.com/github/Atharva-Waghmare/Deep_Learning/blob/main/practice_deep_learning.ipynb\" target=\"_parent\"><img src=\"https://colab.research.google.com/assets/colab-badge.svg\" alt=\"Open In Colab\"/></a>"
      ]
    },
    {
      "cell_type": "code",
      "execution_count": 2,
      "metadata": {
        "id": "_-viI4zoDCSM",
        "colab": {
          "base_uri": "https://localhost:8080/",
          "height": 37
        },
        "outputId": "a85065e3-a9d5-407e-e367-344f1840e4c1"
      },
      "outputs": [
        {
          "output_type": "display_data",
          "data": {
            "text/plain": [
              "<IPython.core.display.HTML object>"
            ],
            "text/html": [
              "\n",
              "<style>\n",
              "    /* Turns off some styling */\n",
              "    progress {\n",
              "        /* gets rid of default border in Firefox and Opera. */\n",
              "        border: none;\n",
              "        /* Needs to be in here for Safari polyfill so background images work as expected. */\n",
              "        background-size: auto;\n",
              "    }\n",
              "    progress:not([value]), progress:not([value])::-webkit-progress-bar {\n",
              "        background: repeating-linear-gradient(45deg, #7e7e7e, #7e7e7e 10px, #5c5c5c 10px, #5c5c5c 20px);\n",
              "    }\n",
              "    .progress-bar-interrupted, .progress-bar-interrupted::-webkit-progress-bar {\n",
              "        background: #F44336;\n",
              "    }\n",
              "</style>\n"
            ]
          },
          "metadata": {}
        },
        {
          "output_type": "display_data",
          "data": {
            "text/plain": [
              "<IPython.core.display.HTML object>"
            ],
            "text/html": [
              "\n",
              "    <div>\n",
              "      <progress value='3219456' class='' max='3214948' style='width:300px; height:20px; vertical-align: middle;'></progress>\n",
              "      100.14% [3219456/3214948 00:00&lt;00:00]\n",
              "    </div>\n",
              "    "
            ]
          },
          "metadata": {}
        }
      ],
      "source": [
        "from fastai.data.all import *\n",
        "from PIL import Image\n",
        "import pandas as pd\n",
        "import torch\n",
        "path=untar_data(URLs.MNIST_SAMPLE)"
      ]
    },
    {
      "cell_type": "code",
      "source": [],
      "metadata": {
        "id": "Gcs_SAsly9PE"
      },
      "execution_count": 2,
      "outputs": []
    },
    {
      "cell_type": "code",
      "source": [
        "(path/'train').ls()"
      ],
      "metadata": {
        "colab": {
          "base_uri": "https://localhost:8080/"
        },
        "id": "UHMJyEkGDe56",
        "outputId": "d7000b30-8c3b-4dbc-de6c-4554fa1e49b4"
      },
      "execution_count": 3,
      "outputs": [
        {
          "output_type": "execute_result",
          "data": {
            "text/plain": [
              "(#2) [Path('/root/.fastai/data/mnist_sample/train/3'),Path('/root/.fastai/data/mnist_sample/train/7')]"
            ]
          },
          "metadata": {},
          "execution_count": 3
        }
      ]
    },
    {
      "cell_type": "code",
      "source": [
        "threes=(path/'train'/'3').ls().sorted()\n",
        "sevens=(path/'train'/'7').ls().sorted()\n",
        "threes"
      ],
      "metadata": {
        "colab": {
          "base_uri": "https://localhost:8080/"
        },
        "id": "CpWvPwbwEvLO",
        "outputId": "da59dfd6-3bab-4344-a071-d396df8c5f84"
      },
      "execution_count": 4,
      "outputs": [
        {
          "output_type": "execute_result",
          "data": {
            "text/plain": [
              "(#6131) [Path('/root/.fastai/data/mnist_sample/train/3/10.png'),Path('/root/.fastai/data/mnist_sample/train/3/10000.png'),Path('/root/.fastai/data/mnist_sample/train/3/10011.png'),Path('/root/.fastai/data/mnist_sample/train/3/10031.png'),Path('/root/.fastai/data/mnist_sample/train/3/10034.png'),Path('/root/.fastai/data/mnist_sample/train/3/10042.png'),Path('/root/.fastai/data/mnist_sample/train/3/10052.png'),Path('/root/.fastai/data/mnist_sample/train/3/1007.png'),Path('/root/.fastai/data/mnist_sample/train/3/10074.png'),Path('/root/.fastai/data/mnist_sample/train/3/10091.png'),Path('/root/.fastai/data/mnist_sample/train/3/10093.png'),Path('/root/.fastai/data/mnist_sample/train/3/10097.png'),Path('/root/.fastai/data/mnist_sample/train/3/10099.png'),Path('/root/.fastai/data/mnist_sample/train/3/10116.png'),Path('/root/.fastai/data/mnist_sample/train/3/10125.png'),Path('/root/.fastai/data/mnist_sample/train/3/10137.png'),Path('/root/.fastai/data/mnist_sample/train/3/10141.png'),Path('/root/.fastai/data/mnist_sample/train/3/10144.png'),Path('/root/.fastai/data/mnist_sample/train/3/10155.png'),Path('/root/.fastai/data/mnist_sample/train/3/10161.png')...]"
            ]
          },
          "metadata": {},
          "execution_count": 4
        }
      ]
    },
    {
      "cell_type": "code",
      "source": [
        "x=threes[1]\n",
        "im=Image.open(x)\n",
        "im"
      ],
      "metadata": {
        "colab": {
          "base_uri": "https://localhost:8080/",
          "height": 45
        },
        "id": "nJ_lxWagE43o",
        "outputId": "46504e41-9deb-446a-dc20-559183920a6a"
      },
      "execution_count": 5,
      "outputs": [
        {
          "output_type": "execute_result",
          "data": {
            "text/plain": [
              "<PIL.PngImagePlugin.PngImageFile image mode=L size=28x28>"
            ],
            "image/png": "[encoded data removed]",
            "image/jpeg": "[encoded data removed]"
          },
          "metadata": {},
          "execution_count": 5
        }
      ]
    },
    {
      "cell_type": "code",
      "source": [
        "df=pd.DataFrame(tensor(im)[4:22,4:22])\n",
        "df.style.set_properties(**{'font-size':'6pt'}).background_gradient('Greys')"
      ],
      "metadata": {
        "colab": {
          "base_uri": "https://localhost:8080/",
          "height": 613
        },
        "id": "BXMUbesJFGsn",
        "outputId": "7057e925-da56-4daf-a422-209bad92e53d"
      },
      "execution_count": 6,
      "outputs": [
        {
          "output_type": "execute_result",
          "data": {
            "text/plain": [
              "<pandas.io.formats.style.Styler at 0x7ff6d3310510>"
            ],
            "text/html": [
              "<style type=\"text/css\">\n",
              "#T_e66ce_row0_col0, #T_e66ce_row0_col1, #T_e66ce_row0_col2, #T_e66ce_row0_col3, #T_e66ce_row0_col4, #T_e66ce_row0_col5, #T_e66ce_row0_col6, #T_e66ce_row0_col7, #T_e66ce_row0_col8, #T_e66ce_row0_col9, #T_e66ce_row0_col10, #T_e66ce_row0_col11, #T_e66ce_row0_col12, #T_e66ce_row0_col13, #T_e66ce_row0_col14, #T_e66ce_row0_col15, #T_e66ce_row0_col16, #T_e66ce_row0_col17, #T_e66ce_row1_col0, #T_e66ce_row1_col1, #T_e66ce_row1_col2, #T_e66ce_row1_col3, #T_e66ce_row1_col4, #T_e66ce_row1_col15, #T_e66ce_row1_col16, #T_e66ce_row1_col17, #T_e66ce_row2_col0, #T_e66ce_row2_col1, #T_e66ce_row2_col2, #T_e66ce_row2_col15, #T_e66ce_row2_col16, #T_e66ce_row2_col17, #T_e66ce_row3_col0, #T_e66ce_row3_col15, #T_e66ce_row3_col16, #T_e66ce_row3_col17, #T_e66ce_row4_col0, #T_e66ce_row4_col6, #T_e66ce_row4_col7, #T_e66ce_row4_col8, #T_e66ce_row4_col9, #T_e66ce_row4_col10, #T_e66ce_row4_col15, #T_e66ce_row4_col16, #T_e66ce_row4_col17, #T_e66ce_row5_col0, #T_e66ce_row5_col5, #T_e66ce_row5_col6, #T_e66ce_row5_col7, #T_e66ce_row5_col8, #T_e66ce_row5_col9, #T_e66ce_row5_col15, #T_e66ce_row5_col16, #T_e66ce_row5_col17, #T_e66ce_row6_col0, #T_e66ce_row6_col1, #T_e66ce_row6_col2, #T_e66ce_row6_col3, #T_e66ce_row6_col4, #T_e66ce_row6_col5, #T_e66ce_row6_col6, #T_e66ce_row6_col7, #T_e66ce_row6_col8, #T_e66ce_row6_col9, #T_e66ce_row6_col14, #T_e66ce_row6_col15, #T_e66ce_row6_col16, #T_e66ce_row6_col17, #T_e66ce_row7_col0, #T_e66ce_row7_col1, #T_e66ce_row7_col2, #T_e66ce_row7_col3, #T_e66ce_row7_col4, #T_e66ce_row7_col5, #T_e66ce_row7_col6, #T_e66ce_row7_col13, #T_e66ce_row7_col14, #T_e66ce_row7_col15, #T_e66ce_row7_col16, #T_e66ce_row7_col17, #T_e66ce_row8_col0, #T_e66ce_row8_col1, #T_e66ce_row8_col2, #T_e66ce_row8_col3, #T_e66ce_row8_col4, #T_e66ce_row8_col13, #T_e66ce_row8_col14, #T_e66ce_row8_col15, #T_e66ce_row8_col16, #T_e66ce_row8_col17, #T_e66ce_row9_col0, #T_e66ce_row9_col1, #T_e66ce_row9_col2, #T_e66ce_row9_col3, #T_e66ce_row9_col4, #T_e66ce_row9_col16, #T_e66ce_row9_col17, #T_e66ce_row10_col0, #T_e66ce_row10_col1, #T_e66ce_row10_col2, #T_e66ce_row10_col3, #T_e66ce_row10_col4, #T_e66ce_row10_col5, #T_e66ce_row10_col6, #T_e66ce_row10_col17, #T_e66ce_row11_col0, #T_e66ce_row11_col1, #T_e66ce_row11_col2, #T_e66ce_row11_col3, #T_e66ce_row11_col4, #T_e66ce_row11_col5, #T_e66ce_row11_col6, #T_e66ce_row11_col7, #T_e66ce_row11_col8, #T_e66ce_row11_col9, #T_e66ce_row11_col17, #T_e66ce_row12_col0, #T_e66ce_row12_col1, #T_e66ce_row12_col2, #T_e66ce_row12_col3, #T_e66ce_row12_col4, #T_e66ce_row12_col5, #T_e66ce_row12_col6, #T_e66ce_row12_col7, #T_e66ce_row12_col8, #T_e66ce_row12_col9, #T_e66ce_row12_col10, #T_e66ce_row12_col11, #T_e66ce_row12_col12, #T_e66ce_row12_col17, #T_e66ce_row13_col0, #T_e66ce_row13_col1, #T_e66ce_row13_col2, #T_e66ce_row13_col3, #T_e66ce_row13_col4, #T_e66ce_row13_col5, #T_e66ce_row13_col6, #T_e66ce_row13_col7, #T_e66ce_row13_col8, #T_e66ce_row13_col9, #T_e66ce_row13_col10, #T_e66ce_row13_col11, #T_e66ce_row13_col12, #T_e66ce_row13_col17, #T_e66ce_row14_col0, #T_e66ce_row14_col1, #T_e66ce_row14_col2, #T_e66ce_row14_col3, #T_e66ce_row14_col4, #T_e66ce_row14_col5, #T_e66ce_row14_col6, #T_e66ce_row14_col7, #T_e66ce_row14_col8, #T_e66ce_row14_col9, #T_e66ce_row14_col10, #T_e66ce_row14_col11, #T_e66ce_row14_col17, #T_e66ce_row15_col0, #T_e66ce_row15_col1, #T_e66ce_row15_col2, #T_e66ce_row15_col3, #T_e66ce_row15_col4, #T_e66ce_row15_col5, #T_e66ce_row15_col6, #T_e66ce_row15_col7, #T_e66ce_row15_col8, #T_e66ce_row15_col9, #T_e66ce_row15_col10, #T_e66ce_row15_col17, #T_e66ce_row16_col0, #T_e66ce_row16_col1, #T_e66ce_row16_col2, #T_e66ce_row16_col3, #T_e66ce_row16_col4, #T_e66ce_row16_col5, #T_e66ce_row16_col6, #T_e66ce_row16_col7, #T_e66ce_row16_col8, #T_e66ce_row16_col9, #T_e66ce_row16_col16, #T_e66ce_row16_col17, #T_e66ce_row17_col0, #T_e66ce_row17_col1, #T_e66ce_row17_col2, #T_e66ce_row17_col3, #T_e66ce_row17_col4, #T_e66ce_row17_col5, #T_e66ce_row17_col6, #T_e66ce_row17_col7, #T_e66ce_row17_col15, #T_e66ce_row17_col16, #T_e66ce_row17_col17 {\n",
              "  font-size: 6pt;\n",
              "  background-color: #ffffff;\n",
              "  color: #000000;\n",
              "}\n",
              "#T_e66ce_row1_col5 {\n",
              "  font-size: 6pt;\n",
              "  background-color: #efefef;\n",
              "  color: #000000;\n",
              "}\n",
              "#T_e66ce_row1_col6, #T_e66ce_row1_col13 {\n",
              "  font-size: 6pt;\n",
              "  background-color: #7c7c7c;\n",
              "  color: #f1f1f1;\n",
              "}\n",
              "#T_e66ce_row1_col7 {\n",
              "  font-size: 6pt;\n",
              "  background-color: #4a4a4a;\n",
              "  color: #f1f1f1;\n",
              "}\n",
              "#T_e66ce_row1_col8, #T_e66ce_row1_col9, #T_e66ce_row1_col10, #T_e66ce_row2_col5, #T_e66ce_row2_col6, #T_e66ce_row2_col7, #T_e66ce_row2_col11, #T_e66ce_row2_col12, #T_e66ce_row2_col13, #T_e66ce_row3_col4, #T_e66ce_row3_col12, #T_e66ce_row3_col13, #T_e66ce_row4_col1, #T_e66ce_row4_col2, #T_e66ce_row4_col3, #T_e66ce_row4_col12, #T_e66ce_row4_col13, #T_e66ce_row5_col12, #T_e66ce_row6_col11, #T_e66ce_row9_col11, #T_e66ce_row10_col11, #T_e66ce_row10_col12, #T_e66ce_row10_col13, #T_e66ce_row10_col14, #T_e66ce_row11_col13, #T_e66ce_row11_col14, #T_e66ce_row11_col15, #T_e66ce_row12_col14, #T_e66ce_row12_col15, #T_e66ce_row12_col16, #T_e66ce_row13_col14, #T_e66ce_row13_col15, #T_e66ce_row14_col14, #T_e66ce_row14_col15, #T_e66ce_row15_col13, #T_e66ce_row15_col14, #T_e66ce_row16_col12, #T_e66ce_row16_col13, #T_e66ce_row17_col11, #T_e66ce_row17_col12 {\n",
              "  font-size: 6pt;\n",
              "  background-color: #000000;\n",
              "  color: #f1f1f1;\n",
              "}\n",
              "#T_e66ce_row1_col11 {\n",
              "  font-size: 6pt;\n",
              "  background-color: #606060;\n",
              "  color: #f1f1f1;\n",
              "}\n",
              "#T_e66ce_row1_col12 {\n",
              "  font-size: 6pt;\n",
              "  background-color: #4d4d4d;\n",
              "  color: #f1f1f1;\n",
              "}\n",
              "#T_e66ce_row1_col14 {\n",
              "  font-size: 6pt;\n",
              "  background-color: #bbbbbb;\n",
              "  color: #000000;\n",
              "}\n",
              "#T_e66ce_row2_col3 {\n",
              "  font-size: 6pt;\n",
              "  background-color: #e4e4e4;\n",
              "  color: #000000;\n",
              "}\n",
              "#T_e66ce_row2_col4, #T_e66ce_row8_col6 {\n",
              "  font-size: 6pt;\n",
              "  background-color: #6b6b6b;\n",
              "  color: #f1f1f1;\n",
              "}\n",
              "#T_e66ce_row2_col8, #T_e66ce_row2_col14, #T_e66ce_row3_col14, #T_e66ce_row17_col13 {\n",
              "  font-size: 6pt;\n",
              "  background-color: #171717;\n",
              "  color: #f1f1f1;\n",
              "}\n",
              "#T_e66ce_row2_col9, #T_e66ce_row3_col11 {\n",
              "  font-size: 6pt;\n",
              "  background-color: #4b4b4b;\n",
              "  color: #f1f1f1;\n",
              "}\n",
              "#T_e66ce_row2_col10, #T_e66ce_row7_col10, #T_e66ce_row8_col8, #T_e66ce_row8_col10, #T_e66ce_row9_col8, #T_e66ce_row9_col10 {\n",
              "  font-size: 6pt;\n",
              "  background-color: #010101;\n",
              "  color: #f1f1f1;\n",
              "}\n",
              "#T_e66ce_row3_col1 {\n",
              "  font-size: 6pt;\n",
              "  background-color: #272727;\n",
              "  color: #f1f1f1;\n",
              "}\n",
              "#T_e66ce_row3_col2 {\n",
              "  font-size: 6pt;\n",
              "  background-color: #0a0a0a;\n",
              "  color: #f1f1f1;\n",
              "}\n",
              "#T_e66ce_row3_col3, #T_e66ce_row14_col13 {\n",
              "  font-size: 6pt;\n",
              "  background-color: #050505;\n",
              "  color: #f1f1f1;\n",
              "}\n",
              "#T_e66ce_row3_col5 {\n",
              "  font-size: 6pt;\n",
              "  background-color: #333333;\n",
              "  color: #f1f1f1;\n",
              "}\n",
              "#T_e66ce_row3_col6 {\n",
              "  font-size: 6pt;\n",
              "  background-color: #e6e6e6;\n",
              "  color: #000000;\n",
              "}\n",
              "#T_e66ce_row3_col7, #T_e66ce_row3_col10 {\n",
              "  font-size: 6pt;\n",
              "  background-color: #fafafa;\n",
              "  color: #000000;\n",
              "}\n",
              "#T_e66ce_row3_col8, #T_e66ce_row11_col10, #T_e66ce_row16_col15 {\n",
              "  font-size: 6pt;\n",
              "  background-color: #fbfbfb;\n",
              "  color: #000000;\n",
              "}\n",
              "#T_e66ce_row3_col9 {\n",
              "  font-size: 6pt;\n",
              "  background-color: #fdfdfd;\n",
              "  color: #000000;\n",
              "}\n",
              "#T_e66ce_row4_col4 {\n",
              "  font-size: 6pt;\n",
              "  background-color: #1b1b1b;\n",
              "  color: #f1f1f1;\n",
              "}\n",
              "#T_e66ce_row4_col5 {\n",
              "  font-size: 6pt;\n",
              "  background-color: #e0e0e0;\n",
              "  color: #000000;\n",
              "}\n",
              "#T_e66ce_row4_col11 {\n",
              "  font-size: 6pt;\n",
              "  background-color: #4e4e4e;\n",
              "  color: #f1f1f1;\n",
              "}\n",
              "#T_e66ce_row4_col14 {\n",
              "  font-size: 6pt;\n",
              "  background-color: #767676;\n",
              "  color: #f1f1f1;\n",
              "}\n",
              "#T_e66ce_row5_col1 {\n",
              "  font-size: 6pt;\n",
              "  background-color: #fcfcfc;\n",
              "  color: #000000;\n",
              "}\n",
              "#T_e66ce_row5_col2, #T_e66ce_row5_col3, #T_e66ce_row15_col16 {\n",
              "  font-size: 6pt;\n",
              "  background-color: #f6f6f6;\n",
              "  color: #000000;\n",
              "}\n",
              "#T_e66ce_row5_col4, #T_e66ce_row7_col7 {\n",
              "  font-size: 6pt;\n",
              "  background-color: #f8f8f8;\n",
              "  color: #000000;\n",
              "}\n",
              "#T_e66ce_row5_col10, #T_e66ce_row10_col7 {\n",
              "  font-size: 6pt;\n",
              "  background-color: #e8e8e8;\n",
              "  color: #000000;\n",
              "}\n",
              "#T_e66ce_row5_col11 {\n",
              "  font-size: 6pt;\n",
              "  background-color: #222222;\n",
              "  color: #f1f1f1;\n",
              "}\n",
              "#T_e66ce_row5_col13, #T_e66ce_row6_col12 {\n",
              "  font-size: 6pt;\n",
              "  background-color: #090909;\n",
              "  color: #f1f1f1;\n",
              "}\n",
              "#T_e66ce_row5_col14 {\n",
              "  font-size: 6pt;\n",
              "  background-color: #d0d0d0;\n",
              "  color: #000000;\n",
              "}\n",
              "#T_e66ce_row6_col10, #T_e66ce_row7_col11, #T_e66ce_row9_col6 {\n",
              "  font-size: 6pt;\n",
              "  background-color: #060606;\n",
              "  color: #f1f1f1;\n",
              "}\n",
              "#T_e66ce_row6_col13 {\n",
              "  font-size: 6pt;\n",
              "  background-color: #979797;\n",
              "  color: #f1f1f1;\n",
              "}\n",
              "#T_e66ce_row7_col8 {\n",
              "  font-size: 6pt;\n",
              "  background-color: #b6b6b6;\n",
              "  color: #000000;\n",
              "}\n",
              "#T_e66ce_row7_col9 {\n",
              "  font-size: 6pt;\n",
              "  background-color: #252525;\n",
              "  color: #f1f1f1;\n",
              "}\n",
              "#T_e66ce_row7_col12 {\n",
              "  font-size: 6pt;\n",
              "  background-color: #999999;\n",
              "  color: #f1f1f1;\n",
              "}\n",
              "#T_e66ce_row8_col5 {\n",
              "  font-size: 6pt;\n",
              "  background-color: #f9f9f9;\n",
              "  color: #000000;\n",
              "}\n",
              "#T_e66ce_row8_col7 {\n",
              "  font-size: 6pt;\n",
              "  background-color: #101010;\n",
              "  color: #f1f1f1;\n",
              "}\n",
              "#T_e66ce_row8_col9, #T_e66ce_row9_col9, #T_e66ce_row17_col10 {\n",
              "  font-size: 6pt;\n",
              "  background-color: #020202;\n",
              "  color: #f1f1f1;\n",
              "}\n",
              "#T_e66ce_row8_col11, #T_e66ce_row10_col15 {\n",
              "  font-size: 6pt;\n",
              "  background-color: #545454;\n",
              "  color: #f1f1f1;\n",
              "}\n",
              "#T_e66ce_row8_col12 {\n",
              "  font-size: 6pt;\n",
              "  background-color: #f1f1f1;\n",
              "  color: #000000;\n",
              "}\n",
              "#T_e66ce_row9_col5 {\n",
              "  font-size: 6pt;\n",
              "  background-color: #f7f7f7;\n",
              "  color: #000000;\n",
              "}\n",
              "#T_e66ce_row9_col7 {\n",
              "  font-size: 6pt;\n",
              "  background-color: #030303;\n",
              "  color: #f1f1f1;\n",
              "}\n",
              "#T_e66ce_row9_col12 {\n",
              "  font-size: 6pt;\n",
              "  background-color: #181818;\n",
              "  color: #f1f1f1;\n",
              "}\n",
              "#T_e66ce_row9_col13 {\n",
              "  font-size: 6pt;\n",
              "  background-color: #303030;\n",
              "  color: #f1f1f1;\n",
              "}\n",
              "#T_e66ce_row9_col14 {\n",
              "  font-size: 6pt;\n",
              "  background-color: #a9a9a9;\n",
              "  color: #f1f1f1;\n",
              "}\n",
              "#T_e66ce_row9_col15 {\n",
              "  font-size: 6pt;\n",
              "  background-color: #fefefe;\n",
              "  color: #000000;\n",
              "}\n",
              "#T_e66ce_row10_col8, #T_e66ce_row10_col9, #T_e66ce_row16_col10 {\n",
              "  font-size: 6pt;\n",
              "  background-color: #bababa;\n",
              "  color: #000000;\n",
              "}\n",
              "#T_e66ce_row10_col10 {\n",
              "  font-size: 6pt;\n",
              "  background-color: #393939;\n",
              "  color: #f1f1f1;\n",
              "}\n",
              "#T_e66ce_row10_col16 {\n",
              "  font-size: 6pt;\n",
              "  background-color: #eaeaea;\n",
              "  color: #000000;\n",
              "}\n",
              "#T_e66ce_row11_col11 {\n",
              "  font-size: 6pt;\n",
              "  background-color: #e2e2e2;\n",
              "  color: #000000;\n",
              "}\n",
              "#T_e66ce_row11_col12 {\n",
              "  font-size: 6pt;\n",
              "  background-color: #9f9f9f;\n",
              "  color: #f1f1f1;\n",
              "}\n",
              "#T_e66ce_row11_col16 {\n",
              "  font-size: 6pt;\n",
              "  background-color: #898989;\n",
              "  color: #f1f1f1;\n",
              "}\n",
              "#T_e66ce_row12_col13 {\n",
              "  font-size: 6pt;\n",
              "  background-color: #585858;\n",
              "  color: #f1f1f1;\n",
              "}\n",
              "#T_e66ce_row13_col13 {\n",
              "  font-size: 6pt;\n",
              "  background-color: #5a5a5a;\n",
              "  color: #f1f1f1;\n",
              "}\n",
              "#T_e66ce_row13_col16 {\n",
              "  font-size: 6pt;\n",
              "  background-color: #525252;\n",
              "  color: #f1f1f1;\n",
              "}\n",
              "#T_e66ce_row14_col12 {\n",
              "  font-size: 6pt;\n",
              "  background-color: #c5c5c5;\n",
              "  color: #000000;\n",
              "}\n",
              "#T_e66ce_row14_col16 {\n",
              "  font-size: 6pt;\n",
              "  background-color: #d7d7d7;\n",
              "  color: #000000;\n",
              "}\n",
              "#T_e66ce_row15_col11 {\n",
              "  font-size: 6pt;\n",
              "  background-color: #dcdcdc;\n",
              "  color: #000000;\n",
              "}\n",
              "#T_e66ce_row15_col12 {\n",
              "  font-size: 6pt;\n",
              "  background-color: #2f2f2f;\n",
              "  color: #f1f1f1;\n",
              "}\n",
              "#T_e66ce_row15_col15 {\n",
              "  font-size: 6pt;\n",
              "  background-color: #636363;\n",
              "  color: #f1f1f1;\n",
              "}\n",
              "#T_e66ce_row16_col11 {\n",
              "  font-size: 6pt;\n",
              "  background-color: #070707;\n",
              "  color: #f1f1f1;\n",
              "}\n",
              "#T_e66ce_row16_col14 {\n",
              "  font-size: 6pt;\n",
              "  background-color: #1f1f1f;\n",
              "  color: #f1f1f1;\n",
              "}\n",
              "#T_e66ce_row17_col8 {\n",
              "  font-size: 6pt;\n",
              "  background-color: #e9e9e9;\n",
              "  color: #000000;\n",
              "}\n",
              "#T_e66ce_row17_col9 {\n",
              "  font-size: 6pt;\n",
              "  background-color: #7d7d7d;\n",
              "  color: #f1f1f1;\n",
              "}\n",
              "#T_e66ce_row17_col14 {\n",
              "  font-size: 6pt;\n",
              "  background-color: #e1e1e1;\n",
              "  color: #000000;\n",
              "}\n",
              "</style>\n",
              "<table id=\"T_e66ce\" class=\"dataframe\">\n",
              "  <thead>\n",
              "    <tr>\n",
              "      <th class=\"blank level0\" >&nbsp;</th>\n",
              "      <th id=\"T_e66ce_level0_col0\" class=\"col_heading level0 col0\" >0</th>\n",
              "      <th id=\"T_e66ce_level0_col1\" class=\"col_heading level0 col1\" >1</th>\n",
              "      <th id=\"T_e66ce_level0_col2\" class=\"col_heading level0 col2\" >2</th>\n",
              "      <th id=\"T_e66ce_level0_col3\" class=\"col_heading level0 col3\" >3</th>\n",
              "      <th id=\"T_e66ce_level0_col4\" class=\"col_heading level0 col4\" >4</th>\n",
              "      <th id=\"T_e66ce_level0_col5\" class=\"col_heading level0 col5\" >5</th>\n",
              "      <th id=\"T_e66ce_level0_col6\" class=\"col_heading level0 col6\" >6</th>\n",
              "      <th id=\"T_e66ce_level0_col7\" class=\"col_heading level0 col7\" >7</th>\n",
              "      <th id=\"T_e66ce_level0_col8\" class=\"col_heading level0 col8\" >8</th>\n",
              "      <th id=\"T_e66ce_level0_col9\" class=\"col_heading level0 col9\" >9</th>\n",
              "      <th id=\"T_e66ce_level0_col10\" class=\"col_heading level0 col10\" >10</th>\n",
              "      <th id=\"T_e66ce_level0_col11\" class=\"col_heading level0 col11\" >11</th>\n",
              "      <th id=\"T_e66ce_level0_col12\" class=\"col_heading level0 col12\" >12</th>\n",
              "      <th id=\"T_e66ce_level0_col13\" class=\"col_heading level0 col13\" >13</th>\n",
              "      <th id=\"T_e66ce_level0_col14\" class=\"col_heading level0 col14\" >14</th>\n",
              "      <th id=\"T_e66ce_level0_col15\" class=\"col_heading level0 col15\" >15</th>\n",
              "      <th id=\"T_e66ce_level0_col16\" class=\"col_heading level0 col16\" >16</th>\n",
              "      <th id=\"T_e66ce_level0_col17\" class=\"col_heading level0 col17\" >17</th>\n",
              "    </tr>\n",
              "  </thead>\n",
              "  <tbody>\n",
              "    <tr>\n",
              "      <th id=\"T_e66ce_level0_row0\" class=\"row_heading level0 row0\" >0</th>\n",
              "      <td id=\"T_e66ce_row0_col0\" class=\"data row0 col0\" >0</td>\n",
              "      <td id=\"T_e66ce_row0_col1\" class=\"data row0 col1\" >0</td>\n",
              "      <td id=\"T_e66ce_row0_col2\" class=\"data row0 col2\" >0</td>\n",
              "      <td id=\"T_e66ce_row0_col3\" class=\"data row0 col3\" >0</td>\n",
              "      <td id=\"T_e66ce_row0_col4\" class=\"data row0 col4\" >0</td>\n",
              "      <td id=\"T_e66ce_row0_col5\" class=\"data row0 col5\" >0</td>\n",
              "      <td id=\"T_e66ce_row0_col6\" class=\"data row0 col6\" >0</td>\n",
              "      <td id=\"T_e66ce_row0_col7\" class=\"data row0 col7\" >0</td>\n",
              "      <td id=\"T_e66ce_row0_col8\" class=\"data row0 col8\" >0</td>\n",
              "      <td id=\"T_e66ce_row0_col9\" class=\"data row0 col9\" >0</td>\n",
              "      <td id=\"T_e66ce_row0_col10\" class=\"data row0 col10\" >0</td>\n",
              "      <td id=\"T_e66ce_row0_col11\" class=\"data row0 col11\" >0</td>\n",
              "      <td id=\"T_e66ce_row0_col12\" class=\"data row0 col12\" >0</td>\n",
              "      <td id=\"T_e66ce_row0_col13\" class=\"data row0 col13\" >0</td>\n",
              "      <td id=\"T_e66ce_row0_col14\" class=\"data row0 col14\" >0</td>\n",
              "      <td id=\"T_e66ce_row0_col15\" class=\"data row0 col15\" >0</td>\n",
              "      <td id=\"T_e66ce_row0_col16\" class=\"data row0 col16\" >0</td>\n",
              "      <td id=\"T_e66ce_row0_col17\" class=\"data row0 col17\" >0</td>\n",
              "    </tr>\n",
              "    <tr>\n",
              "      <th id=\"T_e66ce_level0_row1\" class=\"row_heading level0 row1\" >1</th>\n",
              "      <td id=\"T_e66ce_row1_col0\" class=\"data row1 col0\" >0</td>\n",
              "      <td id=\"T_e66ce_row1_col1\" class=\"data row1 col1\" >0</td>\n",
              "      <td id=\"T_e66ce_row1_col2\" class=\"data row1 col2\" >0</td>\n",
              "      <td id=\"T_e66ce_row1_col3\" class=\"data row1 col3\" >0</td>\n",
              "      <td id=\"T_e66ce_row1_col4\" class=\"data row1 col4\" >0</td>\n",
              "      <td id=\"T_e66ce_row1_col5\" class=\"data row1 col5\" >29</td>\n",
              "      <td id=\"T_e66ce_row1_col6\" class=\"data row1 col6\" >150</td>\n",
              "      <td id=\"T_e66ce_row1_col7\" class=\"data row1 col7\" >195</td>\n",
              "      <td id=\"T_e66ce_row1_col8\" class=\"data row1 col8\" >254</td>\n",
              "      <td id=\"T_e66ce_row1_col9\" class=\"data row1 col9\" >255</td>\n",
              "      <td id=\"T_e66ce_row1_col10\" class=\"data row1 col10\" >254</td>\n",
              "      <td id=\"T_e66ce_row1_col11\" class=\"data row1 col11\" >176</td>\n",
              "      <td id=\"T_e66ce_row1_col12\" class=\"data row1 col12\" >193</td>\n",
              "      <td id=\"T_e66ce_row1_col13\" class=\"data row1 col13\" >150</td>\n",
              "      <td id=\"T_e66ce_row1_col14\" class=\"data row1 col14\" >96</td>\n",
              "      <td id=\"T_e66ce_row1_col15\" class=\"data row1 col15\" >0</td>\n",
              "      <td id=\"T_e66ce_row1_col16\" class=\"data row1 col16\" >0</td>\n",
              "      <td id=\"T_e66ce_row1_col17\" class=\"data row1 col17\" >0</td>\n",
              "    </tr>\n",
              "    <tr>\n",
              "      <th id=\"T_e66ce_level0_row2\" class=\"row_heading level0 row2\" >2</th>\n",
              "      <td id=\"T_e66ce_row2_col0\" class=\"data row2 col0\" >0</td>\n",
              "      <td id=\"T_e66ce_row2_col1\" class=\"data row2 col1\" >0</td>\n",
              "      <td id=\"T_e66ce_row2_col2\" class=\"data row2 col2\" >0</td>\n",
              "      <td id=\"T_e66ce_row2_col3\" class=\"data row2 col3\" >48</td>\n",
              "      <td id=\"T_e66ce_row2_col4\" class=\"data row2 col4\" >166</td>\n",
              "      <td id=\"T_e66ce_row2_col5\" class=\"data row2 col5\" >224</td>\n",
              "      <td id=\"T_e66ce_row2_col6\" class=\"data row2 col6\" >253</td>\n",
              "      <td id=\"T_e66ce_row2_col7\" class=\"data row2 col7\" >253</td>\n",
              "      <td id=\"T_e66ce_row2_col8\" class=\"data row2 col8\" >234</td>\n",
              "      <td id=\"T_e66ce_row2_col9\" class=\"data row2 col9\" >196</td>\n",
              "      <td id=\"T_e66ce_row2_col10\" class=\"data row2 col10\" >253</td>\n",
              "      <td id=\"T_e66ce_row2_col11\" class=\"data row2 col11\" >253</td>\n",
              "      <td id=\"T_e66ce_row2_col12\" class=\"data row2 col12\" >253</td>\n",
              "      <td id=\"T_e66ce_row2_col13\" class=\"data row2 col13\" >253</td>\n",
              "      <td id=\"T_e66ce_row2_col14\" class=\"data row2 col14\" >233</td>\n",
              "      <td id=\"T_e66ce_row2_col15\" class=\"data row2 col15\" >0</td>\n",
              "      <td id=\"T_e66ce_row2_col16\" class=\"data row2 col16\" >0</td>\n",
              "      <td id=\"T_e66ce_row2_col17\" class=\"data row2 col17\" >0</td>\n",
              "    </tr>\n",
              "    <tr>\n",
              "      <th id=\"T_e66ce_level0_row3\" class=\"row_heading level0 row3\" >3</th>\n",
              "      <td id=\"T_e66ce_row3_col0\" class=\"data row3 col0\" >0</td>\n",
              "      <td id=\"T_e66ce_row3_col1\" class=\"data row3 col1\" >93</td>\n",
              "      <td id=\"T_e66ce_row3_col2\" class=\"data row3 col2\" >244</td>\n",
              "      <td id=\"T_e66ce_row3_col3\" class=\"data row3 col3\" >249</td>\n",
              "      <td id=\"T_e66ce_row3_col4\" class=\"data row3 col4\" >253</td>\n",
              "      <td id=\"T_e66ce_row3_col5\" class=\"data row3 col5\" >187</td>\n",
              "      <td id=\"T_e66ce_row3_col6\" class=\"data row3 col6\" >46</td>\n",
              "      <td id=\"T_e66ce_row3_col7\" class=\"data row3 col7\" >10</td>\n",
              "      <td id=\"T_e66ce_row3_col8\" class=\"data row3 col8\" >8</td>\n",
              "      <td id=\"T_e66ce_row3_col9\" class=\"data row3 col9\" >4</td>\n",
              "      <td id=\"T_e66ce_row3_col10\" class=\"data row3 col10\" >10</td>\n",
              "      <td id=\"T_e66ce_row3_col11\" class=\"data row3 col11\" >194</td>\n",
              "      <td id=\"T_e66ce_row3_col12\" class=\"data row3 col12\" >253</td>\n",
              "      <td id=\"T_e66ce_row3_col13\" class=\"data row3 col13\" >253</td>\n",
              "      <td id=\"T_e66ce_row3_col14\" class=\"data row3 col14\" >233</td>\n",
              "      <td id=\"T_e66ce_row3_col15\" class=\"data row3 col15\" >0</td>\n",
              "      <td id=\"T_e66ce_row3_col16\" class=\"data row3 col16\" >0</td>\n",
              "      <td id=\"T_e66ce_row3_col17\" class=\"data row3 col17\" >0</td>\n",
              "    </tr>\n",
              "    <tr>\n",
              "      <th id=\"T_e66ce_level0_row4\" class=\"row_heading level0 row4\" >4</th>\n",
              "      <td id=\"T_e66ce_row4_col0\" class=\"data row4 col0\" >0</td>\n",
              "      <td id=\"T_e66ce_row4_col1\" class=\"data row4 col1\" >107</td>\n",
              "      <td id=\"T_e66ce_row4_col2\" class=\"data row4 col2\" >253</td>\n",
              "      <td id=\"T_e66ce_row4_col3\" class=\"data row4 col3\" >253</td>\n",
              "      <td id=\"T_e66ce_row4_col4\" class=\"data row4 col4\" >230</td>\n",
              "      <td id=\"T_e66ce_row4_col5\" class=\"data row4 col5\" >48</td>\n",
              "      <td id=\"T_e66ce_row4_col6\" class=\"data row4 col6\" >0</td>\n",
              "      <td id=\"T_e66ce_row4_col7\" class=\"data row4 col7\" >0</td>\n",
              "      <td id=\"T_e66ce_row4_col8\" class=\"data row4 col8\" >0</td>\n",
              "      <td id=\"T_e66ce_row4_col9\" class=\"data row4 col9\" >0</td>\n",
              "      <td id=\"T_e66ce_row4_col10\" class=\"data row4 col10\" >0</td>\n",
              "      <td id=\"T_e66ce_row4_col11\" class=\"data row4 col11\" >192</td>\n",
              "      <td id=\"T_e66ce_row4_col12\" class=\"data row4 col12\" >253</td>\n",
              "      <td id=\"T_e66ce_row4_col13\" class=\"data row4 col13\" >253</td>\n",
              "      <td id=\"T_e66ce_row4_col14\" class=\"data row4 col14\" >156</td>\n",
              "      <td id=\"T_e66ce_row4_col15\" class=\"data row4 col15\" >0</td>\n",
              "      <td id=\"T_e66ce_row4_col16\" class=\"data row4 col16\" >0</td>\n",
              "      <td id=\"T_e66ce_row4_col17\" class=\"data row4 col17\" >0</td>\n",
              "    </tr>\n",
              "    <tr>\n",
              "      <th id=\"T_e66ce_level0_row5\" class=\"row_heading level0 row5\" >5</th>\n",
              "      <td id=\"T_e66ce_row5_col0\" class=\"data row5 col0\" >0</td>\n",
              "      <td id=\"T_e66ce_row5_col1\" class=\"data row5 col1\" >3</td>\n",
              "      <td id=\"T_e66ce_row5_col2\" class=\"data row5 col2\" >20</td>\n",
              "      <td id=\"T_e66ce_row5_col3\" class=\"data row5 col3\" >20</td>\n",
              "      <td id=\"T_e66ce_row5_col4\" class=\"data row5 col4\" >15</td>\n",
              "      <td id=\"T_e66ce_row5_col5\" class=\"data row5 col5\" >0</td>\n",
              "      <td id=\"T_e66ce_row5_col6\" class=\"data row5 col6\" >0</td>\n",
              "      <td id=\"T_e66ce_row5_col7\" class=\"data row5 col7\" >0</td>\n",
              "      <td id=\"T_e66ce_row5_col8\" class=\"data row5 col8\" >0</td>\n",
              "      <td id=\"T_e66ce_row5_col9\" class=\"data row5 col9\" >0</td>\n",
              "      <td id=\"T_e66ce_row5_col10\" class=\"data row5 col10\" >43</td>\n",
              "      <td id=\"T_e66ce_row5_col11\" class=\"data row5 col11\" >224</td>\n",
              "      <td id=\"T_e66ce_row5_col12\" class=\"data row5 col12\" >253</td>\n",
              "      <td id=\"T_e66ce_row5_col13\" class=\"data row5 col13\" >245</td>\n",
              "      <td id=\"T_e66ce_row5_col14\" class=\"data row5 col14\" >74</td>\n",
              "      <td id=\"T_e66ce_row5_col15\" class=\"data row5 col15\" >0</td>\n",
              "      <td id=\"T_e66ce_row5_col16\" class=\"data row5 col16\" >0</td>\n",
              "      <td id=\"T_e66ce_row5_col17\" class=\"data row5 col17\" >0</td>\n",
              "    </tr>\n",
              "    <tr>\n",
              "      <th id=\"T_e66ce_level0_row6\" class=\"row_heading level0 row6\" >6</th>\n",
              "      <td id=\"T_e66ce_row6_col0\" class=\"data row6 col0\" >0</td>\n",
              "      <td id=\"T_e66ce_row6_col1\" class=\"data row6 col1\" >0</td>\n",
              "      <td id=\"T_e66ce_row6_col2\" class=\"data row6 col2\" >0</td>\n",
              "      <td id=\"T_e66ce_row6_col3\" class=\"data row6 col3\" >0</td>\n",
              "      <td id=\"T_e66ce_row6_col4\" class=\"data row6 col4\" >0</td>\n",
              "      <td id=\"T_e66ce_row6_col5\" class=\"data row6 col5\" >0</td>\n",
              "      <td id=\"T_e66ce_row6_col6\" class=\"data row6 col6\" >0</td>\n",
              "      <td id=\"T_e66ce_row6_col7\" class=\"data row6 col7\" >0</td>\n",
              "      <td id=\"T_e66ce_row6_col8\" class=\"data row6 col8\" >0</td>\n",
              "      <td id=\"T_e66ce_row6_col9\" class=\"data row6 col9\" >0</td>\n",
              "      <td id=\"T_e66ce_row6_col10\" class=\"data row6 col10\" >249</td>\n",
              "      <td id=\"T_e66ce_row6_col11\" class=\"data row6 col11\" >253</td>\n",
              "      <td id=\"T_e66ce_row6_col12\" class=\"data row6 col12\" >245</td>\n",
              "      <td id=\"T_e66ce_row6_col13\" class=\"data row6 col13\" >126</td>\n",
              "      <td id=\"T_e66ce_row6_col14\" class=\"data row6 col14\" >0</td>\n",
              "      <td id=\"T_e66ce_row6_col15\" class=\"data row6 col15\" >0</td>\n",
              "      <td id=\"T_e66ce_row6_col16\" class=\"data row6 col16\" >0</td>\n",
              "      <td id=\"T_e66ce_row6_col17\" class=\"data row6 col17\" >0</td>\n",
              "    </tr>\n",
              "    <tr>\n",
              "      <th id=\"T_e66ce_level0_row7\" class=\"row_heading level0 row7\" >7</th>\n",
              "      <td id=\"T_e66ce_row7_col0\" class=\"data row7 col0\" >0</td>\n",
              "      <td id=\"T_e66ce_row7_col1\" class=\"data row7 col1\" >0</td>\n",
              "      <td id=\"T_e66ce_row7_col2\" class=\"data row7 col2\" >0</td>\n",
              "      <td id=\"T_e66ce_row7_col3\" class=\"data row7 col3\" >0</td>\n",
              "      <td id=\"T_e66ce_row7_col4\" class=\"data row7 col4\" >0</td>\n",
              "      <td id=\"T_e66ce_row7_col5\" class=\"data row7 col5\" >0</td>\n",
              "      <td id=\"T_e66ce_row7_col6\" class=\"data row7 col6\" >0</td>\n",
              "      <td id=\"T_e66ce_row7_col7\" class=\"data row7 col7\" >14</td>\n",
              "      <td id=\"T_e66ce_row7_col8\" class=\"data row7 col8\" >101</td>\n",
              "      <td id=\"T_e66ce_row7_col9\" class=\"data row7 col9\" >223</td>\n",
              "      <td id=\"T_e66ce_row7_col10\" class=\"data row7 col10\" >253</td>\n",
              "      <td id=\"T_e66ce_row7_col11\" class=\"data row7 col11\" >248</td>\n",
              "      <td id=\"T_e66ce_row7_col12\" class=\"data row7 col12\" >124</td>\n",
              "      <td id=\"T_e66ce_row7_col13\" class=\"data row7 col13\" >0</td>\n",
              "      <td id=\"T_e66ce_row7_col14\" class=\"data row7 col14\" >0</td>\n",
              "      <td id=\"T_e66ce_row7_col15\" class=\"data row7 col15\" >0</td>\n",
              "      <td id=\"T_e66ce_row7_col16\" class=\"data row7 col16\" >0</td>\n",
              "      <td id=\"T_e66ce_row7_col17\" class=\"data row7 col17\" >0</td>\n",
              "    </tr>\n",
              "    <tr>\n",
              "      <th id=\"T_e66ce_level0_row8\" class=\"row_heading level0 row8\" >8</th>\n",
              "      <td id=\"T_e66ce_row8_col0\" class=\"data row8 col0\" >0</td>\n",
              "      <td id=\"T_e66ce_row8_col1\" class=\"data row8 col1\" >0</td>\n",
              "      <td id=\"T_e66ce_row8_col2\" class=\"data row8 col2\" >0</td>\n",
              "      <td id=\"T_e66ce_row8_col3\" class=\"data row8 col3\" >0</td>\n",
              "      <td id=\"T_e66ce_row8_col4\" class=\"data row8 col4\" >0</td>\n",
              "      <td id=\"T_e66ce_row8_col5\" class=\"data row8 col5\" >11</td>\n",
              "      <td id=\"T_e66ce_row8_col6\" class=\"data row8 col6\" >166</td>\n",
              "      <td id=\"T_e66ce_row8_col7\" class=\"data row8 col7\" >239</td>\n",
              "      <td id=\"T_e66ce_row8_col8\" class=\"data row8 col8\" >253</td>\n",
              "      <td id=\"T_e66ce_row8_col9\" class=\"data row8 col9\" >253</td>\n",
              "      <td id=\"T_e66ce_row8_col10\" class=\"data row8 col10\" >253</td>\n",
              "      <td id=\"T_e66ce_row8_col11\" class=\"data row8 col11\" >187</td>\n",
              "      <td id=\"T_e66ce_row8_col12\" class=\"data row8 col12\" >30</td>\n",
              "      <td id=\"T_e66ce_row8_col13\" class=\"data row8 col13\" >0</td>\n",
              "      <td id=\"T_e66ce_row8_col14\" class=\"data row8 col14\" >0</td>\n",
              "      <td id=\"T_e66ce_row8_col15\" class=\"data row8 col15\" >0</td>\n",
              "      <td id=\"T_e66ce_row8_col16\" class=\"data row8 col16\" >0</td>\n",
              "      <td id=\"T_e66ce_row8_col17\" class=\"data row8 col17\" >0</td>\n",
              "    </tr>\n",
              "    <tr>\n",
              "      <th id=\"T_e66ce_level0_row9\" class=\"row_heading level0 row9\" >9</th>\n",
              "      <td id=\"T_e66ce_row9_col0\" class=\"data row9 col0\" >0</td>\n",
              "      <td id=\"T_e66ce_row9_col1\" class=\"data row9 col1\" >0</td>\n",
              "      <td id=\"T_e66ce_row9_col2\" class=\"data row9 col2\" >0</td>\n",
              "      <td id=\"T_e66ce_row9_col3\" class=\"data row9 col3\" >0</td>\n",
              "      <td id=\"T_e66ce_row9_col4\" class=\"data row9 col4\" >0</td>\n",
              "      <td id=\"T_e66ce_row9_col5\" class=\"data row9 col5\" >16</td>\n",
              "      <td id=\"T_e66ce_row9_col6\" class=\"data row9 col6\" >248</td>\n",
              "      <td id=\"T_e66ce_row9_col7\" class=\"data row9 col7\" >250</td>\n",
              "      <td id=\"T_e66ce_row9_col8\" class=\"data row9 col8\" >253</td>\n",
              "      <td id=\"T_e66ce_row9_col9\" class=\"data row9 col9\" >253</td>\n",
              "      <td id=\"T_e66ce_row9_col10\" class=\"data row9 col10\" >253</td>\n",
              "      <td id=\"T_e66ce_row9_col11\" class=\"data row9 col11\" >253</td>\n",
              "      <td id=\"T_e66ce_row9_col12\" class=\"data row9 col12\" >232</td>\n",
              "      <td id=\"T_e66ce_row9_col13\" class=\"data row9 col13\" >213</td>\n",
              "      <td id=\"T_e66ce_row9_col14\" class=\"data row9 col14\" >111</td>\n",
              "      <td id=\"T_e66ce_row9_col15\" class=\"data row9 col15\" >2</td>\n",
              "      <td id=\"T_e66ce_row9_col16\" class=\"data row9 col16\" >0</td>\n",
              "      <td id=\"T_e66ce_row9_col17\" class=\"data row9 col17\" >0</td>\n",
              "    </tr>\n",
              "    <tr>\n",
              "      <th id=\"T_e66ce_level0_row10\" class=\"row_heading level0 row10\" >10</th>\n",
              "      <td id=\"T_e66ce_row10_col0\" class=\"data row10 col0\" >0</td>\n",
              "      <td id=\"T_e66ce_row10_col1\" class=\"data row10 col1\" >0</td>\n",
              "      <td id=\"T_e66ce_row10_col2\" class=\"data row10 col2\" >0</td>\n",
              "      <td id=\"T_e66ce_row10_col3\" class=\"data row10 col3\" >0</td>\n",
              "      <td id=\"T_e66ce_row10_col4\" class=\"data row10 col4\" >0</td>\n",
              "      <td id=\"T_e66ce_row10_col5\" class=\"data row10 col5\" >0</td>\n",
              "      <td id=\"T_e66ce_row10_col6\" class=\"data row10 col6\" >0</td>\n",
              "      <td id=\"T_e66ce_row10_col7\" class=\"data row10 col7\" >43</td>\n",
              "      <td id=\"T_e66ce_row10_col8\" class=\"data row10 col8\" >98</td>\n",
              "      <td id=\"T_e66ce_row10_col9\" class=\"data row10 col9\" >98</td>\n",
              "      <td id=\"T_e66ce_row10_col10\" class=\"data row10 col10\" >208</td>\n",
              "      <td id=\"T_e66ce_row10_col11\" class=\"data row10 col11\" >253</td>\n",
              "      <td id=\"T_e66ce_row10_col12\" class=\"data row10 col12\" >253</td>\n",
              "      <td id=\"T_e66ce_row10_col13\" class=\"data row10 col13\" >253</td>\n",
              "      <td id=\"T_e66ce_row10_col14\" class=\"data row10 col14\" >253</td>\n",
              "      <td id=\"T_e66ce_row10_col15\" class=\"data row10 col15\" >187</td>\n",
              "      <td id=\"T_e66ce_row10_col16\" class=\"data row10 col16\" >22</td>\n",
              "      <td id=\"T_e66ce_row10_col17\" class=\"data row10 col17\" >0</td>\n",
              "    </tr>\n",
              "    <tr>\n",
              "      <th id=\"T_e66ce_level0_row11\" class=\"row_heading level0 row11\" >11</th>\n",
              "      <td id=\"T_e66ce_row11_col0\" class=\"data row11 col0\" >0</td>\n",
              "      <td id=\"T_e66ce_row11_col1\" class=\"data row11 col1\" >0</td>\n",
              "      <td id=\"T_e66ce_row11_col2\" class=\"data row11 col2\" >0</td>\n",
              "      <td id=\"T_e66ce_row11_col3\" class=\"data row11 col3\" >0</td>\n",
              "      <td id=\"T_e66ce_row11_col4\" class=\"data row11 col4\" >0</td>\n",
              "      <td id=\"T_e66ce_row11_col5\" class=\"data row11 col5\" >0</td>\n",
              "      <td id=\"T_e66ce_row11_col6\" class=\"data row11 col6\" >0</td>\n",
              "      <td id=\"T_e66ce_row11_col7\" class=\"data row11 col7\" >0</td>\n",
              "      <td id=\"T_e66ce_row11_col8\" class=\"data row11 col8\" >0</td>\n",
              "      <td id=\"T_e66ce_row11_col9\" class=\"data row11 col9\" >0</td>\n",
              "      <td id=\"T_e66ce_row11_col10\" class=\"data row11 col10\" >9</td>\n",
              "      <td id=\"T_e66ce_row11_col11\" class=\"data row11 col11\" >51</td>\n",
              "      <td id=\"T_e66ce_row11_col12\" class=\"data row11 col12\" >119</td>\n",
              "      <td id=\"T_e66ce_row11_col13\" class=\"data row11 col13\" >253</td>\n",
              "      <td id=\"T_e66ce_row11_col14\" class=\"data row11 col14\" >253</td>\n",
              "      <td id=\"T_e66ce_row11_col15\" class=\"data row11 col15\" >253</td>\n",
              "      <td id=\"T_e66ce_row11_col16\" class=\"data row11 col16\" >76</td>\n",
              "      <td id=\"T_e66ce_row11_col17\" class=\"data row11 col17\" >0</td>\n",
              "    </tr>\n",
              "    <tr>\n",
              "      <th id=\"T_e66ce_level0_row12\" class=\"row_heading level0 row12\" >12</th>\n",
              "      <td id=\"T_e66ce_row12_col0\" class=\"data row12 col0\" >0</td>\n",
              "      <td id=\"T_e66ce_row12_col1\" class=\"data row12 col1\" >0</td>\n",
              "      <td id=\"T_e66ce_row12_col2\" class=\"data row12 col2\" >0</td>\n",
              "      <td id=\"T_e66ce_row12_col3\" class=\"data row12 col3\" >0</td>\n",
              "      <td id=\"T_e66ce_row12_col4\" class=\"data row12 col4\" >0</td>\n",
              "      <td id=\"T_e66ce_row12_col5\" class=\"data row12 col5\" >0</td>\n",
              "      <td id=\"T_e66ce_row12_col6\" class=\"data row12 col6\" >0</td>\n",
              "      <td id=\"T_e66ce_row12_col7\" class=\"data row12 col7\" >0</td>\n",
              "      <td id=\"T_e66ce_row12_col8\" class=\"data row12 col8\" >0</td>\n",
              "      <td id=\"T_e66ce_row12_col9\" class=\"data row12 col9\" >0</td>\n",
              "      <td id=\"T_e66ce_row12_col10\" class=\"data row12 col10\" >0</td>\n",
              "      <td id=\"T_e66ce_row12_col11\" class=\"data row12 col11\" >0</td>\n",
              "      <td id=\"T_e66ce_row12_col12\" class=\"data row12 col12\" >1</td>\n",
              "      <td id=\"T_e66ce_row12_col13\" class=\"data row12 col13\" >183</td>\n",
              "      <td id=\"T_e66ce_row12_col14\" class=\"data row12 col14\" >253</td>\n",
              "      <td id=\"T_e66ce_row12_col15\" class=\"data row12 col15\" >253</td>\n",
              "      <td id=\"T_e66ce_row12_col16\" class=\"data row12 col16\" >139</td>\n",
              "      <td id=\"T_e66ce_row12_col17\" class=\"data row12 col17\" >0</td>\n",
              "    </tr>\n",
              "    <tr>\n",
              "      <th id=\"T_e66ce_level0_row13\" class=\"row_heading level0 row13\" >13</th>\n",
              "      <td id=\"T_e66ce_row13_col0\" class=\"data row13 col0\" >0</td>\n",
              "      <td id=\"T_e66ce_row13_col1\" class=\"data row13 col1\" >0</td>\n",
              "      <td id=\"T_e66ce_row13_col2\" class=\"data row13 col2\" >0</td>\n",
              "      <td id=\"T_e66ce_row13_col3\" class=\"data row13 col3\" >0</td>\n",
              "      <td id=\"T_e66ce_row13_col4\" class=\"data row13 col4\" >0</td>\n",
              "      <td id=\"T_e66ce_row13_col5\" class=\"data row13 col5\" >0</td>\n",
              "      <td id=\"T_e66ce_row13_col6\" class=\"data row13 col6\" >0</td>\n",
              "      <td id=\"T_e66ce_row13_col7\" class=\"data row13 col7\" >0</td>\n",
              "      <td id=\"T_e66ce_row13_col8\" class=\"data row13 col8\" >0</td>\n",
              "      <td id=\"T_e66ce_row13_col9\" class=\"data row13 col9\" >0</td>\n",
              "      <td id=\"T_e66ce_row13_col10\" class=\"data row13 col10\" >0</td>\n",
              "      <td id=\"T_e66ce_row13_col11\" class=\"data row13 col11\" >0</td>\n",
              "      <td id=\"T_e66ce_row13_col12\" class=\"data row13 col12\" >0</td>\n",
              "      <td id=\"T_e66ce_row13_col13\" class=\"data row13 col13\" >182</td>\n",
              "      <td id=\"T_e66ce_row13_col14\" class=\"data row13 col14\" >253</td>\n",
              "      <td id=\"T_e66ce_row13_col15\" class=\"data row13 col15\" >253</td>\n",
              "      <td id=\"T_e66ce_row13_col16\" class=\"data row13 col16\" >104</td>\n",
              "      <td id=\"T_e66ce_row13_col17\" class=\"data row13 col17\" >0</td>\n",
              "    </tr>\n",
              "    <tr>\n",
              "      <th id=\"T_e66ce_level0_row14\" class=\"row_heading level0 row14\" >14</th>\n",
              "      <td id=\"T_e66ce_row14_col0\" class=\"data row14 col0\" >0</td>\n",
              "      <td id=\"T_e66ce_row14_col1\" class=\"data row14 col1\" >0</td>\n",
              "      <td id=\"T_e66ce_row14_col2\" class=\"data row14 col2\" >0</td>\n",
              "      <td id=\"T_e66ce_row14_col3\" class=\"data row14 col3\" >0</td>\n",
              "      <td id=\"T_e66ce_row14_col4\" class=\"data row14 col4\" >0</td>\n",
              "      <td id=\"T_e66ce_row14_col5\" class=\"data row14 col5\" >0</td>\n",
              "      <td id=\"T_e66ce_row14_col6\" class=\"data row14 col6\" >0</td>\n",
              "      <td id=\"T_e66ce_row14_col7\" class=\"data row14 col7\" >0</td>\n",
              "      <td id=\"T_e66ce_row14_col8\" class=\"data row14 col8\" >0</td>\n",
              "      <td id=\"T_e66ce_row14_col9\" class=\"data row14 col9\" >0</td>\n",
              "      <td id=\"T_e66ce_row14_col10\" class=\"data row14 col10\" >0</td>\n",
              "      <td id=\"T_e66ce_row14_col11\" class=\"data row14 col11\" >0</td>\n",
              "      <td id=\"T_e66ce_row14_col12\" class=\"data row14 col12\" >85</td>\n",
              "      <td id=\"T_e66ce_row14_col13\" class=\"data row14 col13\" >249</td>\n",
              "      <td id=\"T_e66ce_row14_col14\" class=\"data row14 col14\" >253</td>\n",
              "      <td id=\"T_e66ce_row14_col15\" class=\"data row14 col15\" >253</td>\n",
              "      <td id=\"T_e66ce_row14_col16\" class=\"data row14 col16\" >36</td>\n",
              "      <td id=\"T_e66ce_row14_col17\" class=\"data row14 col17\" >0</td>\n",
              "    </tr>\n",
              "    <tr>\n",
              "      <th id=\"T_e66ce_level0_row15\" class=\"row_heading level0 row15\" >15</th>\n",
              "      <td id=\"T_e66ce_row15_col0\" class=\"data row15 col0\" >0</td>\n",
              "      <td id=\"T_e66ce_row15_col1\" class=\"data row15 col1\" >0</td>\n",
              "      <td id=\"T_e66ce_row15_col2\" class=\"data row15 col2\" >0</td>\n",
              "      <td id=\"T_e66ce_row15_col3\" class=\"data row15 col3\" >0</td>\n",
              "      <td id=\"T_e66ce_row15_col4\" class=\"data row15 col4\" >0</td>\n",
              "      <td id=\"T_e66ce_row15_col5\" class=\"data row15 col5\" >0</td>\n",
              "      <td id=\"T_e66ce_row15_col6\" class=\"data row15 col6\" >0</td>\n",
              "      <td id=\"T_e66ce_row15_col7\" class=\"data row15 col7\" >0</td>\n",
              "      <td id=\"T_e66ce_row15_col8\" class=\"data row15 col8\" >0</td>\n",
              "      <td id=\"T_e66ce_row15_col9\" class=\"data row15 col9\" >0</td>\n",
              "      <td id=\"T_e66ce_row15_col10\" class=\"data row15 col10\" >0</td>\n",
              "      <td id=\"T_e66ce_row15_col11\" class=\"data row15 col11\" >60</td>\n",
              "      <td id=\"T_e66ce_row15_col12\" class=\"data row15 col12\" >214</td>\n",
              "      <td id=\"T_e66ce_row15_col13\" class=\"data row15 col13\" >253</td>\n",
              "      <td id=\"T_e66ce_row15_col14\" class=\"data row15 col14\" >253</td>\n",
              "      <td id=\"T_e66ce_row15_col15\" class=\"data row15 col15\" >173</td>\n",
              "      <td id=\"T_e66ce_row15_col16\" class=\"data row15 col16\" >11</td>\n",
              "      <td id=\"T_e66ce_row15_col17\" class=\"data row15 col17\" >0</td>\n",
              "    </tr>\n",
              "    <tr>\n",
              "      <th id=\"T_e66ce_level0_row16\" class=\"row_heading level0 row16\" >16</th>\n",
              "      <td id=\"T_e66ce_row16_col0\" class=\"data row16 col0\" >0</td>\n",
              "      <td id=\"T_e66ce_row16_col1\" class=\"data row16 col1\" >0</td>\n",
              "      <td id=\"T_e66ce_row16_col2\" class=\"data row16 col2\" >0</td>\n",
              "      <td id=\"T_e66ce_row16_col3\" class=\"data row16 col3\" >0</td>\n",
              "      <td id=\"T_e66ce_row16_col4\" class=\"data row16 col4\" >0</td>\n",
              "      <td id=\"T_e66ce_row16_col5\" class=\"data row16 col5\" >0</td>\n",
              "      <td id=\"T_e66ce_row16_col6\" class=\"data row16 col6\" >0</td>\n",
              "      <td id=\"T_e66ce_row16_col7\" class=\"data row16 col7\" >0</td>\n",
              "      <td id=\"T_e66ce_row16_col8\" class=\"data row16 col8\" >0</td>\n",
              "      <td id=\"T_e66ce_row16_col9\" class=\"data row16 col9\" >0</td>\n",
              "      <td id=\"T_e66ce_row16_col10\" class=\"data row16 col10\" >98</td>\n",
              "      <td id=\"T_e66ce_row16_col11\" class=\"data row16 col11\" >247</td>\n",
              "      <td id=\"T_e66ce_row16_col12\" class=\"data row16 col12\" >253</td>\n",
              "      <td id=\"T_e66ce_row16_col13\" class=\"data row16 col13\" >253</td>\n",
              "      <td id=\"T_e66ce_row16_col14\" class=\"data row16 col14\" >226</td>\n",
              "      <td id=\"T_e66ce_row16_col15\" class=\"data row16 col15\" >9</td>\n",
              "      <td id=\"T_e66ce_row16_col16\" class=\"data row16 col16\" >0</td>\n",
              "      <td id=\"T_e66ce_row16_col17\" class=\"data row16 col17\" >0</td>\n",
              "    </tr>\n",
              "    <tr>\n",
              "      <th id=\"T_e66ce_level0_row17\" class=\"row_heading level0 row17\" >17</th>\n",
              "      <td id=\"T_e66ce_row17_col0\" class=\"data row17 col0\" >0</td>\n",
              "      <td id=\"T_e66ce_row17_col1\" class=\"data row17 col1\" >0</td>\n",
              "      <td id=\"T_e66ce_row17_col2\" class=\"data row17 col2\" >0</td>\n",
              "      <td id=\"T_e66ce_row17_col3\" class=\"data row17 col3\" >0</td>\n",
              "      <td id=\"T_e66ce_row17_col4\" class=\"data row17 col4\" >0</td>\n",
              "      <td id=\"T_e66ce_row17_col5\" class=\"data row17 col5\" >0</td>\n",
              "      <td id=\"T_e66ce_row17_col6\" class=\"data row17 col6\" >0</td>\n",
              "      <td id=\"T_e66ce_row17_col7\" class=\"data row17 col7\" >0</td>\n",
              "      <td id=\"T_e66ce_row17_col8\" class=\"data row17 col8\" >42</td>\n",
              "      <td id=\"T_e66ce_row17_col9\" class=\"data row17 col9\" >150</td>\n",
              "      <td id=\"T_e66ce_row17_col10\" class=\"data row17 col10\" >252</td>\n",
              "      <td id=\"T_e66ce_row17_col11\" class=\"data row17 col11\" >253</td>\n",
              "      <td id=\"T_e66ce_row17_col12\" class=\"data row17 col12\" >253</td>\n",
              "      <td id=\"T_e66ce_row17_col13\" class=\"data row17 col13\" >233</td>\n",
              "      <td id=\"T_e66ce_row17_col14\" class=\"data row17 col14\" >53</td>\n",
              "      <td id=\"T_e66ce_row17_col15\" class=\"data row17 col15\" >0</td>\n",
              "      <td id=\"T_e66ce_row17_col16\" class=\"data row17 col16\" >0</td>\n",
              "      <td id=\"T_e66ce_row17_col17\" class=\"data row17 col17\" >0</td>\n",
              "    </tr>\n",
              "  </tbody>\n",
              "</table>\n"
            ]
          },
          "metadata": {},
          "execution_count": 6
        }
      ]
    },
    {
      "cell_type": "code",
      "source": [
        "three_tensors=[tensor(Image.open(o)) for o in threes]\n",
        "seven_tensors=[tensor(Image.open(o)) for o in sevens]"
      ],
      "metadata": {
        "id": "wpmXuVIjHkjh"
      },
      "execution_count": 7,
      "outputs": []
    },
    {
      "cell_type": "code",
      "source": [
        "show_image(three_tensors[5])"
      ],
      "metadata": {
        "colab": {
          "base_uri": "https://localhost:8080/",
          "height": 131
        },
        "id": "bI1cfCLRLJQN",
        "outputId": "cbe4182d-e8d5-4d7e-b76f-b833fdeba3f1"
      },
      "execution_count": 8,
      "outputs": [
        {
          "output_type": "execute_result",
          "data": {
            "text/plain": [
              "<Axes: >"
            ]
          },
          "metadata": {},
          "execution_count": 8
        },
        {
          "output_type": "display_data",
          "data": {
            "text/plain": [
              "<Figure size 100x100 with 1 Axes>"
            ],
            "image/png": "[encoded data removed]"
          },
          "metadata": {}
        }
      ]
    },
    {
      "cell_type": "code",
      "source": [
        "stacked_threes=torch.stack(three_tensors).float()/255\n",
        "stacked_sevens=torch.stack(seven_tensors).float()/255\n",
        "mean_3=stacked_threes.mean(0)\n",
        "mean_7=stacked_sevens.mean(0)\n",
        "# show_image(mean_3)\n",
        "a3=stacked_threes[0]\n",
        "a7=stacked_sevens[0]\n",
        "show_image(a3)"
      ],
      "metadata": {
        "colab": {
          "base_uri": "https://localhost:8080/",
          "height": 131
        },
        "id": "pwD7SAHoL09U",
        "outputId": "8364ffec-0789-4261-e4e1-a59baed42811"
      },
      "execution_count": 9,
      "outputs": [
        {
          "output_type": "execute_result",
          "data": {
            "text/plain": [
              "<Axes: >"
            ]
          },
          "metadata": {},
          "execution_count": 9
        },
        {
          "output_type": "display_data",
          "data": {
            "text/plain": [
              "<Figure size 100x100 with 1 Axes>"
            ],
            "image/png": "[encoded data removed]"
          },
          "metadata": {}
        }
      ]
    },
    {
      "cell_type": "code",
      "source": [
        "dis_abs_3=(a3-mean_3).abs().mean()\n",
        "dis_abs_7=(a3-mean_7).abs().mean()\n",
        "dis_sq_3=(a3-mean_3).pow(2).mean().sqrt()\n",
        "dis_sq_7=(a3-mean_7).pow(2).mean().sqrt()\n",
        "dis_abs_3,dis_sq_3"
      ],
      "metadata": {
        "colab": {
          "base_uri": "https://localhost:8080/"
        },
        "id": "orrtijb7OWfJ",
        "outputId": "fb2c3d1a-0654-46e2-d927-fa3cad71cac6"
      },
      "execution_count": 10,
      "outputs": [
        {
          "output_type": "execute_result",
          "data": {
            "text/plain": [
              "(tensor(0.1074), tensor(0.1912))"
            ]
          },
          "metadata": {},
          "execution_count": 10
        }
      ]
    },
    {
      "cell_type": "code",
      "source": [],
      "metadata": {
        "id": "x2ro1kTlO_Ha"
      },
      "execution_count": 10,
      "outputs": []
    },
    {
      "cell_type": "code",
      "source": [
        "F.l1_loss(a3.float(),mean_3)"
      ],
      "metadata": {
        "colab": {
          "base_uri": "https://localhost:8080/"
        },
        "id": "VfZO2TsoPant",
        "outputId": "781c3bf0-5e32-4ae3-df10-ea396dfd7219"
      },
      "execution_count": 11,
      "outputs": [
        {
          "output_type": "execute_result",
          "data": {
            "text/plain": [
              "tensor(0.1074)"
            ]
          },
          "metadata": {},
          "execution_count": 11
        }
      ]
    },
    {
      "cell_type": "code",
      "source": [
        "valid_3_tens=torch.stack([tensor(Image.open(o)) for o in (path/'valid'/'3').ls()])\n",
        "valid_7_tens=torch.stack([tensor(Image.open(o)) for o in (path/'valid'/'7').ls()])\n",
        "valid_3_tens=valid_3_tens.float()/255\n",
        "valid_7_tens=valid_7_tens.float()/255\n",
        "valid_3_tens.shape"
      ],
      "metadata": {
        "id": "NmZF8ImXPnPg",
        "colab": {
          "base_uri": "https://localhost:8080/"
        },
        "outputId": "85ca0655-cf90-4afa-cdf9-f6e07a1bb43c"
      },
      "execution_count": 12,
      "outputs": [
        {
          "output_type": "execute_result",
          "data": {
            "text/plain": [
              "torch.Size([1010, 28, 28])"
            ]
          },
          "metadata": {},
          "execution_count": 12
        }
      ]
    },
    {
      "cell_type": "code",
      "source": [
        "def mnist_dist(a,b) : return (a-b).abs().mean((-1,-2))\n",
        "mnist_valid_3_dist=mnist_dist(valid_3_tens,mean_3)\n",
        "mnist_valid_7_dist=mnist_dist(valid_7_tens,mean_7)\n",
        "mnist_valid_3_dist"
      ],
      "metadata": {
        "colab": {
          "base_uri": "https://localhost:8080/"
        },
        "id": "rAclqkGcYF63",
        "outputId": "8512fa60-2e20-4440-cf2d-5eb4443374eb"
      },
      "execution_count": 13,
      "outputs": [
        {
          "output_type": "execute_result",
          "data": {
            "text/plain": [
              "tensor([0.1433, 0.1306, 0.1148,  ..., 0.1242, 0.1061, 0.1265])"
            ]
          },
          "metadata": {},
          "execution_count": 13
        }
      ]
    },
    {
      "cell_type": "code",
      "source": [
        "def is_3(x): return mnist_dist(x,mean_3) < mnist_dist(x,mean_7)\n",
        "is_3(a3)\n",
        "is_3(a7)"
      ],
      "metadata": {
        "colab": {
          "base_uri": "https://localhost:8080/"
        },
        "id": "XY56E82OcEAU",
        "outputId": "335b9eda-096d-46c6-f701-3eb7165ff45b"
      },
      "execution_count": 14,
      "outputs": [
        {
          "output_type": "execute_result",
          "data": {
            "text/plain": [
              "tensor(False)"
            ]
          },
          "metadata": {},
          "execution_count": 14
        }
      ]
    },
    {
      "cell_type": "code",
      "source": [
        "acc_3= is_3(valid_3_tens).float().mean()\n",
        "acc_7=(1-is_3(valid_7_tens).float().mean())\n",
        "acc_3,acc_7,(acc_3+acc_7)/2"
      ],
      "metadata": {
        "colab": {
          "base_uri": "https://localhost:8080/"
        },
        "id": "vf7t25lsckNT",
        "outputId": "e9ce5cc6-4067-4e63-f852-94bccb0be144"
      },
      "execution_count": 15,
      "outputs": [
        {
          "output_type": "execute_result",
          "data": {
            "text/plain": [
              "(tensor(0.9168), tensor(0.9854), tensor(0.9511))"
            ]
          },
          "metadata": {},
          "execution_count": 15
        }
      ]
    },
    {
      "cell_type": "code",
      "source": [
        "def f(x) : return x**2\n",
        "xt=tensor(3.).requires_grad_()\n",
        "yt=f(xt)\n",
        "# yt.backward()\n",
        "xt.grad"
      ],
      "metadata": {
        "id": "O0Kuu2kThQsZ"
      },
      "execution_count": 16,
      "outputs": []
    },
    {
      "cell_type": "code",
      "source": [
        "time=torch.arange(0,20).float()\n",
        "speed = torch.randn(20)*3 + 0.75*(time-9.5)**2 + 1"
      ],
      "metadata": {
        "id": "ZdS_w2gUye2g"
      },
      "execution_count": 17,
      "outputs": []
    },
    {
      "cell_type": "code",
      "source": [
        "def f(t,params):\n",
        "  a,b,c=params\n",
        "  return a*(t**2)+(b*t)+c"
      ],
      "metadata": {
        "id": "gruEU7-syvkF"
      },
      "execution_count": 18,
      "outputs": []
    },
    {
      "cell_type": "code",
      "source": [
        "def mse(pred,target): return ((pred-target)**2).mean()"
      ],
      "metadata": {
        "id": "4Hs0FcibzLrW"
      },
      "execution_count": 19,
      "outputs": []
    },
    {
      "cell_type": "code",
      "source": [
        "params=torch.randn(3).requires_grad_()\n",
        "preds= f(time,params)"
      ],
      "metadata": {
        "id": "TZM1wlXUzhQD"
      },
      "execution_count": 20,
      "outputs": []
    },
    {
      "cell_type": "code",
      "source": [
        "loss=mse(preds,speed)\n",
        "loss"
      ],
      "metadata": {
        "colab": {
          "base_uri": "https://localhost:8080/"
        },
        "id": "YNQ2HP1f0-VN",
        "outputId": "3d1e10d9-2b4b-49fd-9076-16ba6f830703"
      },
      "execution_count": 21,
      "outputs": [
        {
          "output_type": "execute_result",
          "data": {
            "text/plain": [
              "tensor(9113.4854, grad_fn=<MeanBackward0>)"
            ]
          },
          "metadata": {},
          "execution_count": 21
        }
      ]
    },
    {
      "cell_type": "code",
      "source": [
        "def show_preds(preds, ax=None):\n",
        "  if ax is None: ax=plt.subplots()[1]\n",
        "  ax.scatter(time, speed)\n",
        "  ax.scatter(time, to_np(preds), color='red')\n",
        "  ax.set_ylim(-300,100)\n",
        "show_preds(preds)"
      ],
      "metadata": {
        "colab": {
          "base_uri": "https://localhost:8080/",
          "height": 435
        },
        "id": "ZK1CF3xw1fEb",
        "outputId": "3e85c137-e25c-46f4-ae4e-7f6a2b42a038"
      },
      "execution_count": 22,
      "outputs": [
        {
          "output_type": "display_data",
          "data": {
            "text/plain": [
              "<Figure size 640x480 with 1 Axes>"
            ],
            "image/png": "[encoded data removed]"
          },
          "metadata": {}
        }
      ]
    },
    {
      "cell_type": "code",
      "source": [
        "loss.backward()"
      ],
      "metadata": {
        "id": "esBKsj2cBD4e"
      },
      "execution_count": 23,
      "outputs": []
    },
    {
      "cell_type": "code",
      "source": [
        "train_x=torch.cat([stacked_threes,stacked_sevens]).view(-1,28*28)\n",
        "train_y=tensor([1]*len(threes)+[0]*len(sevens)).unsqueeze(1)\n",
        "dset=list(zip(train_x,train_y))\n",
        "x,y=dset[0]\n",
        "valid_x=torch.cat([valid_3_tens,valid_7_tens]).view(-1,28*28)\n",
        "valid_y=tensor([1]*len(valid_3_tens)+[0]*len(valid_7_tens)).unsqueeze(1)\n",
        "valid_dset=list(zip(valid_x,valid_y))"
      ],
      "metadata": {
        "id": "u7tiP0mNy-6Y"
      },
      "execution_count": 24,
      "outputs": []
    },
    {
      "cell_type": "code",
      "source": [
        "def init_params(size, std=1.0): return (torch.randn(size)*std).requires_grad_()\n",
        "weights=init_params((28*28,1))\n",
        "bias=init_params(1)"
      ],
      "metadata": {
        "id": "6UlpXqwazFMw"
      },
      "execution_count": 25,
      "outputs": []
    },
    {
      "cell_type": "code",
      "source": [
        "def linear1(xb): return xb@weights+bias\n",
        "preds=linear1(train_x)\n",
        "preds"
      ],
      "metadata": {
        "colab": {
          "base_uri": "https://localhost:8080/"
        },
        "id": "3ZmL7IQ_12Hb",
        "outputId": "63564f38-5ab7-4af9-a5fd-b22be8088f8b"
      },
      "execution_count": 26,
      "outputs": [
        {
          "output_type": "execute_result",
          "data": {
            "text/plain": [
              "tensor([[-8.2401],\n",
              "        [-6.0395],\n",
              "        [ 0.6329],\n",
              "        ...,\n",
              "        [ 0.1042],\n",
              "        [ 1.8943],\n",
              "        [-8.5206]], grad_fn=<AddBackward0>)"
            ]
          },
          "metadata": {},
          "execution_count": 26
        }
      ]
    },
    {
      "cell_type": "code",
      "source": [
        "corrects=(preds>0.0).float()==train_y\n",
        "corrects\n",
        "corrects.float().mean().item()"
      ],
      "metadata": {
        "colab": {
          "base_uri": "https://localhost:8080/"
        },
        "id": "YX4Eh5cT2Ypf",
        "outputId": "9999f1fb-d845-4a10-963d-8c0997a1e2cd"
      },
      "execution_count": 27,
      "outputs": [
        {
          "output_type": "execute_result",
          "data": {
            "text/plain": [
              "0.6023717522621155"
            ]
          },
          "metadata": {},
          "execution_count": 27
        }
      ]
    },
    {
      "cell_type": "code",
      "source": [
        "def mnist_loss(predictions, targets):\n",
        "  predictions = predictions.sigmoid()\n",
        "  return torch.where(targets==1, 1-predictions, predictions).mean()"
      ],
      "metadata": {
        "id": "Ew_stpKj3Rys"
      },
      "execution_count": 28,
      "outputs": []
    },
    {
      "cell_type": "code",
      "source": [
        "dl = DataLoader(dset, batch_size=256)\n",
        "xb,yb = first(dl)\n",
        "xb.shape,yb.shape\n",
        "valid_dl = DataLoader(valid_dset, batch_size=256)"
      ],
      "metadata": {
        "id": "wvc6Tur18J9E"
      },
      "execution_count": 29,
      "outputs": []
    },
    {
      "cell_type": "code",
      "source": [
        "batch = train_x[:4]\n",
        "batch.shape\n",
        "preds = linear1(batch)\n",
        "preds\n",
        "loss = mnist_loss(preds, train_y[:4])\n",
        "loss\n",
        "loss.backward()\n",
        "weights.grad.shape,weights.grad.mean(),bias.grad"
      ],
      "metadata": {
        "colab": {
          "base_uri": "https://localhost:8080/"
        },
        "id": "_lyLAlPY9DZr",
        "outputId": "b45f676c-a13c-44a7-8e43-be2768d96d12"
      },
      "execution_count": 30,
      "outputs": [
        {
          "output_type": "execute_result",
          "data": {
            "text/plain": [
              "(torch.Size([784, 1]), tensor(-0.0175), tensor([-0.1099]))"
            ]
          },
          "metadata": {},
          "execution_count": 30
        }
      ]
    },
    {
      "cell_type": "code",
      "source": [
        "def calc_grad(xb, yb, model):\n",
        "  preds = model(xb)\n",
        "  loss = mnist_loss(preds, yb)\n",
        "  loss.backward()"
      ],
      "metadata": {
        "id": "TABz0lBg9Os7"
      },
      "execution_count": 31,
      "outputs": []
    },
    {
      "cell_type": "code",
      "source": [
        "calc_grad(batch, train_y[:4], linear1)\n",
        "weights.grad.mean(),bias.grad"
      ],
      "metadata": {
        "colab": {
          "base_uri": "https://localhost:8080/"
        },
        "id": "ayfQF39n9OwT",
        "outputId": "49be195d-177c-4046-c80c-28ce3026efc0"
      },
      "execution_count": 32,
      "outputs": [
        {
          "output_type": "execute_result",
          "data": {
            "text/plain": [
              "(tensor(-0.0350), tensor([-0.2199]))"
            ]
          },
          "metadata": {},
          "execution_count": 32
        }
      ]
    },
    {
      "cell_type": "code",
      "source": [
        "calc_grad(batch, train_y[:4], linear1)\n",
        "weights.grad.mean(),bias.grad"
      ],
      "metadata": {
        "colab": {
          "base_uri": "https://localhost:8080/"
        },
        "id": "UNMr6cIe9nU2",
        "outputId": "576554e3-1821-456b-995d-fd2b4e8f4a1a"
      },
      "execution_count": 33,
      "outputs": [
        {
          "output_type": "execute_result",
          "data": {
            "text/plain": [
              "(tensor(-0.0524), tensor([-0.3298]))"
            ]
          },
          "metadata": {},
          "execution_count": 33
        }
      ]
    },
    {
      "cell_type": "code",
      "source": [
        "weights.grad.zero_()\n",
        "bias.grad.zero_();"
      ],
      "metadata": {
        "id": "im9eXSW69s1P"
      },
      "execution_count": 34,
      "outputs": []
    },
    {
      "cell_type": "code",
      "source": [
        "def train_epoch(model, lr, params):\n",
        "  for xb,yb in dl:\n",
        "    calc_grad(xb, yb, model)\n",
        "    for p in params:\n",
        "      p.data -= p.grad*lr\n",
        "      p.grad.zero_()"
      ],
      "metadata": {
        "id": "IEldmYV496qD"
      },
      "execution_count": 35,
      "outputs": []
    },
    {
      "cell_type": "code",
      "source": [
        "def batch_accuracy(xb, yb):\n",
        "  preds = xb.sigmoid()\n",
        "  correct = (preds>0.5) == yb\n",
        "  return correct.float().mean()\n",
        "\n",
        "batch_accuracy(linear1(batch), train_y[:4])"
      ],
      "metadata": {
        "colab": {
          "base_uri": "https://localhost:8080/"
        },
        "id": "NhLVnM2o-Crc",
        "outputId": "cc7bbdf8-7416-4972-e95f-d4f84feefd8b"
      },
      "execution_count": 36,
      "outputs": [
        {
          "output_type": "execute_result",
          "data": {
            "text/plain": [
              "tensor(0.5000)"
            ]
          },
          "metadata": {},
          "execution_count": 36
        }
      ]
    },
    {
      "cell_type": "code",
      "source": [
        "def validate_epoch(model):\n",
        "  accs = [batch_accuracy(model(xb), yb) for xb,yb in valid_dl]\n",
        "  return round(torch.stack(accs).mean().item(), 4)\n",
        "validate_epoch(linear1)"
      ],
      "metadata": {
        "colab": {
          "base_uri": "https://localhost:8080/"
        },
        "id": "MQtMPwqI-O6d",
        "outputId": "8ac0dde2-249a-477c-d538-6e68c19e01b9"
      },
      "execution_count": 37,
      "outputs": [
        {
          "output_type": "execute_result",
          "data": {
            "text/plain": [
              "0.5906"
            ]
          },
          "metadata": {},
          "execution_count": 37
        }
      ]
    },
    {
      "cell_type": "code",
      "source": [
        "lr = 1.\n",
        "params = weights,bias\n",
        "train_epoch(linear1, lr, params)\n",
        "validate_epoch(linear1)"
      ],
      "metadata": {
        "colab": {
          "base_uri": "https://localhost:8080/"
        },
        "id": "Fbw2zEXU-Yks",
        "outputId": "a90d98fe-f0f1-4dac-9907-8f99f450abb9"
      },
      "execution_count": 38,
      "outputs": [
        {
          "output_type": "execute_result",
          "data": {
            "text/plain": [
              "0.7054"
            ]
          },
          "metadata": {},
          "execution_count": 38
        }
      ]
    },
    {
      "cell_type": "code",
      "source": [
        "for i in range(20):\n",
        "  train_epoch(linear1, lr, params)\n",
        "  print(validate_epoch(linear1), end=' ')"
      ],
      "metadata": {
        "colab": {
          "base_uri": "https://localhost:8080/"
        },
        "id": "kVUeiqNs-bNa",
        "outputId": "02f6e1d1-24b7-453b-a9fb-5f8f1e43c6e1"
      },
      "execution_count": 39,
      "outputs": [
        {
          "output_type": "stream",
          "name": "stdout",
          "text": [
            "0.849 0.9061 0.9325 0.9432 0.952 0.9564 0.9593 0.9608 0.9637 0.9662 0.9676 0.9686 0.9696 0.9705 0.971 0.9715 0.9735 0.9735 0.974 0.9749 "
          ]
        }
      ]
    },
    {
      "cell_type": "code",
      "source": [
        "linear_model = nn.Linear(28*28,1)\n",
        "w,b = linear_model.parameters()\n",
        "class BasicOptim:\n",
        "  def __init__(self,params,lr): self.params,self.lr = list(params),lr\n",
        "  def step(self, *args, **kwargs):\n",
        "    for p in self.params: p.data -= p.grad.data * self.lr\n",
        "    def zero_grad(self, *args, **kwargs):\n",
        "      for p in self.params: p.grad = None\n",
        "\n",
        "opt = BasicOptim(linear_model.parameters(), lr)"
      ],
      "metadata": {
        "id": "TZxbo0ll_eFF"
      },
      "execution_count": 43,
      "outputs": []
    },
    {
      "cell_type": "code",
      "source": [
        "def train_epoch(model):\n",
        "  for xb,yb in dl:\n",
        "    calc_grad(xb, yb, model)\n",
        "    opt.step()\n",
        "    opt.zero_grad()\n",
        "validate_epoch(linear_model)"
      ],
      "metadata": {
        "colab": {
          "base_uri": "https://localhost:8080/"
        },
        "id": "HcVXFdvLAT8F",
        "outputId": "1396a06d-034a-4577-9348-e0d1866b3edd"
      },
      "execution_count": 41,
      "outputs": [
        {
          "output_type": "execute_result",
          "data": {
            "text/plain": [
              "0.4966"
            ]
          },
          "metadata": {},
          "execution_count": 41
        }
      ]
    },
    {
      "cell_type": "code",
      "source": [
        "def train_model(model, epochs):\n",
        "  for i in range(epochs):\n",
        "    train_epoch(model)\n",
        "    print(validate_epoch(model), end=' ')\n",
        "\n",
        "train_model(linear_model, 20)"
      ],
      "metadata": {
        "colab": {
          "base_uri": "https://localhost:8080/"
        },
        "id": "eGsHQtF2AlgH",
        "outputId": "05e64893-eb55-4e2d-b835-deb392ec31db"
      },
      "execution_count": 44,
      "outputs": [
        {
          "output_type": "stream",
          "name": "stdout",
          "text": [
            "0.4932 0.7788 0.856 0.917 0.936 0.9492 0.957 0.9633 0.9663 0.9682 0.9697 0.9716 0.9731 0.9746 0.976 0.9765 0.978 0.978 0.9785 0.9785 "
          ]
        }
      ]
    },
    {
      "cell_type": "code",
      "source": [
        "from fastai.learner import Learner\n",
        "from torch import optim\n",
        "import torch.nn as nn\n",
        "from fastai.data.core import DataLoaders\n",
        "from fastai.optimizer import SGD as fastai_SGD\n",
        "\n",
        "class simple_net(nn.Module):\n",
        "    def __init__(self):\n",
        "        super().__init__()\n",
        "        self.linear = nn.Linear(28*28, 1)\n",
        "    def forward(self, x):\n",
        "        return self.linear(x)\n",
        "\n",
        "SGD = optim.SGD\n",
        "\n",
        "dls = DataLoaders(dl, valid_dl)\n",
        "\n",
        "learn = Learner(dls, simple_net(), opt_func=fastai_SGD,\n",
        "loss_func=mnist_loss, metrics=batch_accuracy)"
      ],
      "metadata": {
        "id": "im8wuOnjAmCf"
      },
      "execution_count": 53,
      "outputs": []
    },
    {
      "cell_type": "code",
      "source": [
        "import matplotlib.pyplot as plt\n",
        "\n",
        "if hasattr(learn, 'recorder') and learn.recorder is not None and hasattr(learn.recorder, 'values'):\n",
        "    epochs = range(len(learn.recorder.values))\n",
        "    loss_values = [x[0] for x in learn.recorder.values]\n",
        "    accuracy_values = [x[1] for x in learn.recorder.values]\n",
        "\n",
        "    plt.figure(figsize=(10, 5))\n",
        "    plt.plot(epochs, loss_values, label='Training Loss')\n",
        "    plt.plot(epochs, accuracy_values, label='Validation Accuracy')\n",
        "    plt.xlabel('Epoch')\n",
        "    plt.ylabel('Value')\n",
        "    plt.title('Training Loss and Validation Accuracy per Epoch')\n",
        "    plt.legend()\n",
        "    plt.show()\n",
        "else:\n",
        "    print(\"Metrics not recorded. Please ensure the model was trained using learn.fit().\")"
      ],
      "metadata": {
        "colab": {
          "base_uri": "https://localhost:8080/",
          "height": 487
        },
        "id": "ttKgzIaA9LqW",
        "outputId": "dfb3e2da-c65b-471b-95cc-4d3e1480fae8"
      },
      "execution_count": 56,
      "outputs": [
        {
          "output_type": "display_data",
          "data": {
            "text/plain": [
              "<Figure size 1000x500 with 1 Axes>"
            ],
            "image/png": "[encoded data removed]"
          },
          "metadata": {}
        }
      ]
    },
    {
      "cell_type": "code",
      "source": [
        "learn.recorder.values[-1][2]"
      ],
      "metadata": {
        "colab": {
          "base_uri": "https://localhost:8080/"
        },
        "id": "thlxXBAB-AEa",
        "outputId": "fac57bea-6d9c-4f4e-a19f-07180c390a80"
      },
      "execution_count": 57,
      "outputs": [
        {
          "output_type": "execute_result",
          "data": {
            "text/plain": [
              "0.9435721039772034"
            ]
          },
          "metadata": {},
          "execution_count": 57
        }
      ]
    }
  ]
}