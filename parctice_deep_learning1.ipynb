{
  "nbformat": 4,
  "nbformat_minor": 0,
  "metadata": {
    "colab": {
      "provenance": [],
      "authorship_tag": "ABX9TyOw/zkY2N7oS/A7Pd+ikz17",
      "include_colab_link": true
    },
    "kernelspec": {
      "name": "python3",
      "display_name": "Python 3"
    },
    "language_info": {
      "name": "python"
    }
  },
  "cells": [
    {
      "cell_type": "markdown",
      "metadata": {
        "id": "view-in-github",
        "colab_type": "text"
      },
      "source": [
        "<a href=\"https://colab.research.google.com/github/Atharva-Waghmare/Deep_Learning/blob/main/parctice_deep_learning1.ipynb\" target=\"_parent\"><img src=\"https://colab.research.google.com/assets/colab-badge.svg\" alt=\"Open In Colab\"/></a>"
      ]
    },
    {
      "cell_type": "code",
      "source": [
        "from fastai.data.all import *\n",
        "from PIL import Image\n",
        "import pandas as pd\n",
        "import torch\n",
        "from matplotlib import pyplot as plt\n",
        "\n",
        "# A helper function to plot the model's predictions\n",
        "def show_preds(preds, ax=None):\n",
        "    if ax is None:\n",
        "        ax = plt.subplots()[1]\n",
        "    ax.scatter(time, speed)\n",
        "    ax.scatter(time, to_np(preds), color='red')\n",
        "    ax.set_ylim(-300, 100)\n",
        "    plt.show()\n",
        "\n",
        "# The quadratic function we want to model\n",
        "def f(t, params):\n",
        "    a, b, c = params\n",
        "    return a * (t**2) + (b * t) + c\n",
        "\n",
        "# The Mean Squared Error loss function\n",
        "def mse(preds, targets):\n",
        "    return ((preds - targets)**2).mean()\n",
        "\n",
        "# Step 1: Initialize the parameters\n",
        "time = torch.arange(0, 20).float()\n",
        "speed = torch.randn(20) * 3 + 0.75 * (time - 9.5)**2 + 1\n",
        "params = torch.randn(3).requires_grad_()\n",
        "\n",
        "# Step 2: Calculate predictions and Step 3: Calculate the loss\n",
        "preds = f(time, params)\n",
        "loss = mse(preds, speed)\n",
        "\n",
        "# Step 4: Calculate the gradients\n",
        "loss.backward()\n",
        "\n",
        "# Step 5: Step the weights (with a learning rate) and Step 6: Repeat the process\n",
        "lr = 1e-5\n",
        "def apply_step():\n",
        "    preds = f(time, params)\n",
        "    loss = mse(preds, speed)\n",
        "    loss.backward()\n",
        "    params.data -= lr * params.grad.data\n",
        "    params.grad = None\n",
        "    print(loss.item())\n",
        "\n",
        "print(\"Initial Loss:\")\n",
        "print(loss.item())\n",
        "print(\"\\nTraining for 10 epochs...\")\n",
        "\n",
        "for i in range(10):\n",
        "    apply_step()\n",
        "\n",
        "# Step 7: Stop training\n",
        "print(\"\\nFinal parameters:\", params.data)\n",
        "final_preds = f(time, params)\n",
        "final_loss = mse(final_preds, speed)\n",
        "print(\"Final Loss:\", final_loss.item())\n",
        "\n",
        "# Visualize the final predictions\n",
        "show_preds(f(time, params))"
      ],
      "metadata": {
        "colab": {
          "base_uri": "https://localhost:8080/",
          "height": 730
        },
        "id": "Qm8e4iA3EuIC",
        "outputId": "878f8076-0729-4a7c-ed2f-f0640d5a6208"
      },
      "execution_count": 2,
      "outputs": [
        {
          "output_type": "stream",
          "name": "stdout",
          "text": [
            "Initial Loss:\n",
            "23746.20703125\n",
            "\n",
            "Training for 10 epochs...\n",
            "23746.20703125\n",
            "1038.41015625\n",
            "721.9781494140625\n",
            "662.095458984375\n",
            "650.7596435546875\n",
            "648.6105346679688\n",
            "648.1997680664062\n",
            "648.1177978515625\n",
            "648.0982055664062\n",
            "648.0904541015625\n",
            "\n",
            "Final parameters: tensor([ 0.0998,  0.7070, -0.6820])\n",
            "Final Loss: 648.0847778320312\n"
          ]
        },
        {
          "output_type": "display_data",
          "data": {
            "text/plain": [
              "<Figure size 640x480 with 1 Axes>"
            ],
            "image/png": "[encoded data removed]"
          },
          "metadata": {}
        }
      ]
    },
    {
      "cell_type": "code",
      "source": [],
      "metadata": {
        "id": "5gfHdgLZEvB3"
      },
      "execution_count": null,
      "outputs": []
    }
  ]
}